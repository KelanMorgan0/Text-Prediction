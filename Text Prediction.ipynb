{
 "cells": [
  {
   "metadata": {},
   "cell_type": "markdown",
   "source": [
    "# Text Prediction\n",
    "\n",
    "data received from [Sentiment140 dataset with 1.6 million tweets](https://www.kaggle.com/datasets/kazanova/sentiment140)\n",
    "\n",
    "# Imports"
   ],
   "id": "edce76f071657a9b"
  },
  {
   "metadata": {
    "collapsed": true,
    "ExecuteTime": {
     "end_time": "2025-03-24T19:20:31.185466Z",
     "start_time": "2025-03-24T19:20:31.178671Z"
    }
   },
   "cell_type": "code",
   "source": [
    "import pandas as pd\n",
    "import re\n",
    "import numpy as np"
   ],
   "id": "initial_id",
   "outputs": [],
   "execution_count": 7
  },
  {
   "metadata": {},
   "cell_type": "markdown",
   "source": "# Load Dataset",
   "id": "d88fad4ef1a83dcf"
  },
  {
   "metadata": {
    "ExecuteTime": {
     "end_time": "2025-03-24T16:01:55.980076Z",
     "start_time": "2025-03-24T16:01:53.359308Z"
    }
   },
   "cell_type": "code",
   "source": [
    "data = pd.read_csv(\"Data/twitter_data.csv\", encoding=\"latin-1\", header=None)\n",
    "data.columns = [\"sentiment\", \"id\", \"date\", \"flag\", \"user\", \"text\"]"
   ],
   "id": "ed2a4b0fe9f454da",
   "outputs": [],
   "execution_count": 4
  },
  {
   "metadata": {},
   "cell_type": "markdown",
   "source": [
    "# Create a smaller subset of the data to make it easier to work with\n",
    "- only get the text and 50,000 random rows\n",
    "- make all text lower case\n",
    "- make the strings lists of words"
   ],
   "id": "6476ed0bd2e02c1e"
  },
  {
   "metadata": {
    "ExecuteTime": {
     "end_time": "2025-03-24T16:02:00.257632Z",
     "start_time": "2025-03-24T16:02:00.187332Z"
    }
   },
   "cell_type": "code",
   "source": "tweets = data[\"text\"].sample(50000).str.lower().tolist()",
   "id": "ba3feed4e33fb8cb",
   "outputs": [],
   "execution_count": 5
  },
  {
   "metadata": {},
   "cell_type": "markdown",
   "source": [
    "# Data Cleaning\n",
    "- remove all hashtags and mentions\n",
    "- remove all urls\n",
    "- ensure only letters, numbers and punctuation symbols are left\n",
    "- add all cleaned tweets to one string"
   ],
   "id": "ce279f825928986c"
  },
  {
   "metadata": {
    "ExecuteTime": {
     "end_time": "2025-03-24T16:02:02.187261Z",
     "start_time": "2025-03-24T16:02:02.051764Z"
    }
   },
   "cell_type": "code",
   "source": [
    "clean_tweets = []\n",
    "\n",
    "for tweet in tweets:\n",
    "    tweet = re.sub(r\"http\\S+|www\\S+|@\\w+|#\\w+\", \"\", tweet)\n",
    "    tweet = re.sub(r\"[^a-zA-Z0-9\\s.,!?]\", \"\", tweet)\n",
    "    clean_tweets.append(tweet)\n",
    "\n",
    "all_text = \" \".join(clean_tweets)"
   ],
   "id": "1bd91731d5b71e1d",
   "outputs": [],
   "execution_count": 6
  },
  {
   "metadata": {},
   "cell_type": "markdown",
   "source": "# convert characters to numerical data",
   "id": "ae2ff77518aad9dc"
  },
  {
   "metadata": {},
   "cell_type": "code",
   "outputs": [],
   "execution_count": null,
   "source": [
    "chars = sorted(set(all_text))\n",
    "\n",
    "# index the characters\n",
    "char_to_index = {c: i for i, c in enumerate(chars)}\n",
    "index_to_char = {i: c for i, c in enumerate(chars)}\n",
    "\n",
    "# Length of input\n",
    "length = 40\n",
    "# num of steps to do\n",
    "step = 3\n",
    "X = []\n",
    "y = []\n",
    "\n",
    "for i in range(0, len(all_text) - length, step):\n",
    "    X.append(all_text[i:i + length])\n",
    "    y.append(all_text[i + length])\n",
    "\n",
    "# Convert characters to numbers\n",
    "X_encoded = np.zeros((len(X), length, len(chars)), dtype=bool)\n",
    "y_encoded = np.zeros((len(y), len(chars)), dtype=bool)\n",
    "\n",
    "# loop the number of times of x, add all encoded x values to x_encoded and all y values to y_encoded\n",
    "for i, seq in enumerate(X):\n",
    "    for t, char in enumerate(seq):\n",
    "        X_encoded[i, t, char_to_index[char]] = 1\n",
    "    y_encoded[i, char_to_index[y[i]]] = 1"
   ],
   "id": "28e7f585d16dc3dd"
  }
 ],
 "metadata": {
  "kernelspec": {
   "display_name": "Python 3",
   "language": "python",
   "name": "python3"
  },
  "language_info": {
   "codemirror_mode": {
    "name": "ipython",
    "version": 2
   },
   "file_extension": ".py",
   "mimetype": "text/x-python",
   "name": "python",
   "nbconvert_exporter": "python",
   "pygments_lexer": "ipython2",
   "version": "2.7.6"
  }
 },
 "nbformat": 4,
 "nbformat_minor": 5
}
